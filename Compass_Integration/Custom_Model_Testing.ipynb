{
 "cells": [
  {
   "cell_type": "markdown",
   "id": "1196e80b",
   "metadata": {},
   "source": [
    "### Testing loading of customized models in Compass\n",
    "\n",
    "MIAPACA2 DTP/Parentl xml files"
   ]
  },
  {
   "cell_type": "code",
   "execution_count": 5,
   "id": "7abb8017",
   "metadata": {},
   "outputs": [],
   "source": [
    "from Compass.compass import models, compass, utils\n",
    "import importlib\n",
    "import pandas as pd\n",
    "import os\n",
    "import cplex\n",
    "import numpy as np\n",
    "import libsbml"
   ]
  },
  {
   "cell_type": "code",
   "execution_count": 2,
   "id": "cdec36c5",
   "metadata": {},
   "outputs": [
    {
     "data": {
      "text/plain": [
       "<module 'Compass.compass.models.importCommon' from '/home/dzhang/Compass_Integration/Compass/compass/models/importCommon.py'>"
      ]
     },
     "execution_count": 2,
     "metadata": {},
     "output_type": "execute_result"
    }
   ],
   "source": [
    "# Making changes in the local git repo - reload the .py file \n",
    "importlib.reload(models)\n",
    "importlib.reload(models.importSBML3)\n",
    "importlib.reload(models.geneSymbols)\n",
    "importlib.reload(models.importCommon)"
   ]
  },
  {
   "cell_type": "code",
   "execution_count": 18,
   "id": "4bc1b646",
   "metadata": {},
   "outputs": [],
   "source": [
    "model_dir = os.path.abspath(\"Custom_xml_models/0_1_models/\")\n",
    "dtp_file_PATH = os.path.join(model_dir, \"MIAPaca_DTP_0_75.xml\")\n",
    "par_file_PATH = os.path.join(model_dir, \"MIAPaca_Par_0_75.xml\")\n",
    "HumanGEM_file_PATH = os.path.join(model_dir, \"Human-GEM.xml\")"
   ]
  },
  {
   "cell_type": "code",
   "execution_count": 6,
   "id": "c29c7e45",
   "metadata": {},
   "outputs": [],
   "source": [
    "HGDocument = libsbml.readSBMLFromFile(HumanGEM_file_PATH)"
   ]
  },
  {
   "cell_type": "code",
   "execution_count": 19,
   "id": "575e5ea5",
   "metadata": {},
   "outputs": [],
   "source": [
    "sbmlDocument = libsbml.readSBMLFromFile(dtp_file_PATH)"
   ]
  },
  {
   "cell_type": "code",
   "execution_count": 8,
   "id": "8c740745",
   "metadata": {},
   "outputs": [],
   "source": [
    "HGmodel = models.importSBML3.load(\"HumanGEM\", HGDocument) "
   ]
  },
  {
   "cell_type": "code",
   "execution_count": 21,
   "id": "a14d2b20",
   "metadata": {},
   "outputs": [],
   "source": [
    "model = models.importSBML3.load(\"HumanGEM\", sbmlDocument) "
   ]
  },
  {
   "cell_type": "code",
   "execution_count": 13,
   "id": "9df17be7",
   "metadata": {},
   "outputs": [],
   "source": [
    "models.geneSymbols.resolve_genes(model)"
   ]
  },
  {
   "cell_type": "code",
   "execution_count": 14,
   "id": "1b11483a",
   "metadata": {},
   "outputs": [
    {
     "data": {
      "text/plain": [
       "{'ADH-2',\n",
       " 'ADH-3',\n",
       " 'ADH-4',\n",
       " 'ADH-5',\n",
       " 'ADH1A',\n",
       " 'ADH1B',\n",
       " 'ADH1C',\n",
       " 'ADH4',\n",
       " 'ADH5',\n",
       " 'ADH6',\n",
       " 'ADH7',\n",
       " 'ADHFE1',\n",
       " 'ADHX',\n",
       " 'FLJ32430',\n",
       " 'GSNOR',\n",
       " 'MGC45594',\n",
       " 'ZADH2'}"
      ]
     },
     "execution_count": 14,
     "metadata": {},
     "output_type": "execute_result"
    }
   ],
   "source": [
    "model.reactions['MAR03905'].gene_associations.list_genes()"
   ]
  },
  {
   "cell_type": "code",
   "execution_count": 16,
   "id": "6990d945",
   "metadata": {},
   "outputs": [],
   "source": [
    "models.importCommon.clean_reactions(model)"
   ]
  },
  {
   "cell_type": "code",
   "execution_count": 17,
   "id": "f49de479",
   "metadata": {},
   "outputs": [],
   "source": [
    "models.importCommon.limit_maximum_flux(model, 1000)"
   ]
  },
  {
   "cell_type": "code",
   "execution_count": 5,
   "id": "6cf5aed5",
   "metadata": {},
   "outputs": [],
   "source": [
    "model = models.load_metabolic_model(\"HumanGEM\", model_file_path = HumanGEM_file_PATH)"
   ]
  },
  {
   "cell_type": "code",
   "execution_count": null,
   "id": "201ef784-ac41-46f3-8a41-4a928eaa9890",
   "metadata": {},
   "outputs": [],
   "source": [
    "# Load in model and initalize CPLEX problem \n",
    "\n",
    "model = models.init_model(model=\"HumanGEM\", species=\"homo_sapiens\", exchange_limit = 1.0, model_file_path='/home/dzhang/Compass_Integration/model_xml/0_1_models/MIAPaca_PAR_0_75.xml')"
   ]
  },
  {
   "cell_type": "code",
   "execution_count": 23,
   "id": "ca17296b-fa91-433e-8fed-ff161ec699ef",
   "metadata": {},
   "outputs": [
    {
     "data": {
      "text/plain": [
       "Reaction\n",
       "MAR03905_pos    0.105728\n",
       "MAR03907_pos    0.114925\n",
       "MAR04097_pos    0.144783\n",
       "MAR04099_pos    0.379900\n",
       "MAR04108_pos    0.144783\n",
       "                  ...   \n",
       "MAR20045_pos    0.115123\n",
       "MAR20052_pos    0.153752\n",
       "MAR20066_pos    0.087496\n",
       "MAR20069_pos    0.138128\n",
       "MAR20070_pos    0.101348\n",
       "Name: WT.d_S141_L007_R1_001, Length: 12494, dtype: float64"
      ]
     },
     "execution_count": 23,
     "metadata": {},
     "output_type": "execute_result"
    }
   ],
   "source": [
    "# Penalties.txt is for MIA PACA DTP \n",
    "reaction_penalties = pd.read_csv(\n",
    "        '/home/dzhang/Compass_Integration/penalties.txt', sep=\"\\t\", header=0,\n",
    "        usecols=[0, 1]) #0 is the Reaction column, only using 1st sampel \n",
    "reaction_penalties = reaction_penalties.set_index(\"Reaction\").iloc[:, 0]\n",
    "reaction_penalties"
   ]
  },
  {
   "cell_type": "code",
   "execution_count": 10,
   "id": "a8f7bc03-b9da-473f-ad03-01e8f420aced",
   "metadata": {},
   "outputs": [
    {
     "name": "stdout",
     "output_type": "stream",
     "text": [
      "/home/dzhang/Compass_Integration\n"
     ]
    }
   ],
   "source": [
    "print(os.getcwd())"
   ]
  },
  {
   "cell_type": "code",
   "execution_count": 11,
   "id": "c6e69bc5-a1f5-4988-948c-9ce9dbb843e3",
   "metadata": {},
   "outputs": [],
   "source": [
    "from Compass.compass.compass import algorithm"
   ]
  },
  {
   "cell_type": "code",
   "execution_count": 13,
   "id": "9cae3833-5113-4ca9-8cbb-cb08372fd097",
   "metadata": {},
   "outputs": [],
   "source": [
    "problem = algorithm.initialize_cplex_problem(model)"
   ]
  },
  {
   "cell_type": "code",
   "execution_count": 18,
   "id": "34b69676-8d76-4beb-b03d-625146d4cd22",
   "metadata": {},
   "outputs": [],
   "source": [
    "from Compass.compass import utils"
   ]
  },
  {
   "cell_type": "code",
   "execution_count": 20,
   "id": "355445dc-3e63-4e9d-bb48-52be091d3b44",
   "metadata": {},
   "outputs": [],
   "source": [
    "import cplex"
   ]
  },
  {
   "cell_type": "code",
   "execution_count": 21,
   "id": "13660174-a58b-4d2b-87fa-4d1e323c95df",
   "metadata": {},
   "outputs": [
    {
     "ename": "CplexSolverError",
     "evalue": "CPLEX Error  1016: Community Edition. Problem size limits exceeded. Purchase at http://ibm.biz/error1016.",
     "output_type": "error",
     "traceback": [
      "\u001b[0;31m---------------------------------------------------------------------------\u001b[0m",
      "\u001b[0;31mCplexSolverError\u001b[0m                          Traceback (most recent call last)",
      "\u001b[0;32m/tmp/ipykernel_546377/3593451487.py\u001b[0m in \u001b[0;36m<module>\u001b[0;34m\u001b[0m\n\u001b[1;32m     28\u001b[0m     \u001b[0mproblem\u001b[0m\u001b[0;34m.\u001b[0m\u001b[0mobjective\u001b[0m\u001b[0;34m.\u001b[0m\u001b[0mset_sense\u001b[0m\u001b[0;34m(\u001b[0m\u001b[0mproblem\u001b[0m\u001b[0;34m.\u001b[0m\u001b[0mobjective\u001b[0m\u001b[0;34m.\u001b[0m\u001b[0msense\u001b[0m\u001b[0;34m.\u001b[0m\u001b[0mmaximize\u001b[0m\u001b[0;34m)\u001b[0m\u001b[0;34m\u001b[0m\u001b[0;34m\u001b[0m\u001b[0m\n\u001b[1;32m     29\u001b[0m \u001b[0;34m\u001b[0m\u001b[0m\n\u001b[0;32m---> 30\u001b[0;31m     \u001b[0mproblem\u001b[0m\u001b[0;34m.\u001b[0m\u001b[0msolve\u001b[0m\u001b[0;34m(\u001b[0m\u001b[0;34m)\u001b[0m\u001b[0;34m\u001b[0m\u001b[0;34m\u001b[0m\u001b[0m\n\u001b[0m\u001b[1;32m     31\u001b[0m \u001b[0;34m\u001b[0m\u001b[0m\n\u001b[1;32m     32\u001b[0m     \u001b[0mrxn_max\u001b[0m \u001b[0;34m=\u001b[0m \u001b[0mproblem\u001b[0m\u001b[0;34m.\u001b[0m\u001b[0msolution\u001b[0m\u001b[0;34m.\u001b[0m\u001b[0mget_objective_value\u001b[0m\u001b[0;34m(\u001b[0m\u001b[0;34m)\u001b[0m\u001b[0;34m\u001b[0m\u001b[0;34m\u001b[0m\u001b[0m\n",
      "\u001b[0;32m~/miniconda3/envs/compass/lib/python3.7/site-packages/cplex/__init__.py\u001b[0m in \u001b[0;36msolve\u001b[0;34m(self, paramsets)\u001b[0m\n\u001b[1;32m   1375\u001b[0m                 \u001b[0m_proc\u001b[0m\u001b[0;34m.\u001b[0m\u001b[0mqpopt\u001b[0m\u001b[0;34m(\u001b[0m\u001b[0mself\u001b[0m\u001b[0;34m.\u001b[0m\u001b[0m_env\u001b[0m\u001b[0;34m.\u001b[0m\u001b[0m_e\u001b[0m\u001b[0;34m,\u001b[0m \u001b[0mself\u001b[0m\u001b[0;34m.\u001b[0m\u001b[0m_lp\u001b[0m\u001b[0;34m)\u001b[0m\u001b[0;34m\u001b[0m\u001b[0;34m\u001b[0m\u001b[0m\n\u001b[1;32m   1376\u001b[0m         \u001b[0;32melif\u001b[0m \u001b[0;32mnot\u001b[0m \u001b[0mself\u001b[0m\u001b[0;34m.\u001b[0m\u001b[0mobjective\u001b[0m\u001b[0;34m.\u001b[0m\u001b[0mget_num_quadratic_nonzeros\u001b[0m\u001b[0;34m(\u001b[0m\u001b[0;34m)\u001b[0m \u001b[0;34m>\u001b[0m \u001b[0;36m0\u001b[0m\u001b[0;34m:\u001b[0m\u001b[0;34m\u001b[0m\u001b[0;34m\u001b[0m\u001b[0m\n\u001b[0;32m-> 1377\u001b[0;31m             \u001b[0m_proc\u001b[0m\u001b[0;34m.\u001b[0m\u001b[0mlpopt\u001b[0m\u001b[0;34m(\u001b[0m\u001b[0mself\u001b[0m\u001b[0;34m.\u001b[0m\u001b[0m_env\u001b[0m\u001b[0;34m.\u001b[0m\u001b[0m_e\u001b[0m\u001b[0;34m,\u001b[0m \u001b[0mself\u001b[0m\u001b[0;34m.\u001b[0m\u001b[0m_lp\u001b[0m\u001b[0;34m)\u001b[0m\u001b[0;34m\u001b[0m\u001b[0;34m\u001b[0m\u001b[0m\n\u001b[0m\u001b[1;32m   1378\u001b[0m         \u001b[0;32melse\u001b[0m\u001b[0;34m:\u001b[0m\u001b[0;34m\u001b[0m\u001b[0;34m\u001b[0m\u001b[0m\n\u001b[1;32m   1379\u001b[0m             \u001b[0m_proc\u001b[0m\u001b[0;34m.\u001b[0m\u001b[0mqpopt\u001b[0m\u001b[0;34m(\u001b[0m\u001b[0mself\u001b[0m\u001b[0;34m.\u001b[0m\u001b[0m_env\u001b[0m\u001b[0;34m.\u001b[0m\u001b[0m_e\u001b[0m\u001b[0;34m,\u001b[0m \u001b[0mself\u001b[0m\u001b[0;34m.\u001b[0m\u001b[0m_lp\u001b[0m\u001b[0;34m)\u001b[0m\u001b[0;34m\u001b[0m\u001b[0;34m\u001b[0m\u001b[0m\n",
      "\u001b[0;32m~/miniconda3/envs/compass/lib/python3.7/site-packages/cplex/_internal/_procedural.py\u001b[0m in \u001b[0;36mlpopt\u001b[0;34m(env, lp)\u001b[0m\n\u001b[1;32m    764\u001b[0m     \u001b[0;32mwith\u001b[0m \u001b[0mSigIntHandler\u001b[0m\u001b[0;34m(\u001b[0m\u001b[0;34m)\u001b[0m\u001b[0;34m:\u001b[0m\u001b[0;34m\u001b[0m\u001b[0;34m\u001b[0m\u001b[0m\n\u001b[1;32m    765\u001b[0m         \u001b[0mstatus\u001b[0m \u001b[0;34m=\u001b[0m \u001b[0mCR\u001b[0m\u001b[0;34m.\u001b[0m\u001b[0mCPXXlpopt\u001b[0m\u001b[0;34m(\u001b[0m\u001b[0menv\u001b[0m\u001b[0;34m,\u001b[0m \u001b[0mlp\u001b[0m\u001b[0;34m)\u001b[0m\u001b[0;34m\u001b[0m\u001b[0;34m\u001b[0m\u001b[0m\n\u001b[0;32m--> 766\u001b[0;31m     \u001b[0mcheck_status\u001b[0m\u001b[0;34m(\u001b[0m\u001b[0menv\u001b[0m\u001b[0;34m,\u001b[0m \u001b[0mstatus\u001b[0m\u001b[0;34m)\u001b[0m\u001b[0;34m\u001b[0m\u001b[0;34m\u001b[0m\u001b[0m\n\u001b[0m\u001b[1;32m    767\u001b[0m \u001b[0;34m\u001b[0m\u001b[0m\n\u001b[1;32m    768\u001b[0m \u001b[0;34m\u001b[0m\u001b[0m\n",
      "\u001b[0;32m~/miniconda3/envs/compass/lib/python3.7/site-packages/cplex/_internal/_procedural.py\u001b[0m in \u001b[0;36m__call__\u001b[0;34m(self, env, status, from_cb)\u001b[0m\n\u001b[1;32m    247\u001b[0m                 \u001b[0;32melse\u001b[0m\u001b[0;34m:\u001b[0m\u001b[0;34m\u001b[0m\u001b[0;34m\u001b[0m\u001b[0m\n\u001b[1;32m    248\u001b[0m                     \u001b[0merror_string\u001b[0m \u001b[0;34m=\u001b[0m \u001b[0mgeterrorstring\u001b[0m\u001b[0;34m(\u001b[0m\u001b[0menv\u001b[0m\u001b[0;34m,\u001b[0m \u001b[0mstatus\u001b[0m\u001b[0;34m)\u001b[0m\u001b[0;34m\u001b[0m\u001b[0;34m\u001b[0m\u001b[0m\n\u001b[0;32m--> 249\u001b[0;31m             \u001b[0;32mraise\u001b[0m \u001b[0mCplexSolverError\u001b[0m\u001b[0;34m(\u001b[0m\u001b[0merror_string\u001b[0m\u001b[0;34m,\u001b[0m \u001b[0menv\u001b[0m\u001b[0;34m,\u001b[0m \u001b[0mstatus\u001b[0m\u001b[0;34m)\u001b[0m\u001b[0;34m\u001b[0m\u001b[0;34m\u001b[0m\u001b[0m\n\u001b[0m\u001b[1;32m    250\u001b[0m \u001b[0;34m\u001b[0m\u001b[0m\n\u001b[1;32m    251\u001b[0m \u001b[0;34m\u001b[0m\u001b[0m\n",
      "\u001b[0;31mCplexSolverError\u001b[0m: CPLEX Error  1016: Community Edition. Problem size limits exceeded. Purchase at http://ibm.biz/error1016."
     ]
    }
   ],
   "source": [
    "# calculating theoretical max flux works w/o error \n",
    "import tqdm\n",
    "import sys\n",
    "maxes = {}\n",
    "reactions = list(model.reactions.values())\n",
    "\n",
    "rxn_values = pd.DataFrame(columns=[\"Reaction ID\", \"Rxn Max\", \"Rxn Score\"])\n",
    "rxn_values = rxn_values.set_index(\"Reaction ID\")\n",
    "\n",
    "for reaction in reactions:\n",
    "    \n",
    "    if reaction.is_exchange:\n",
    "        continue\n",
    "\n",
    "    partner_reaction = reaction.reverse_reaction\n",
    "\n",
    "    # Set partner reaction upper-limit to 0 in problem\n",
    "    # Store old limit for later to restore\n",
    "    if partner_reaction is not None:\n",
    "        partner_id = partner_reaction.id\n",
    "        old_partner_ub = problem.variables.get_upper_bounds(partner_id)\n",
    "        old_partner_lb = problem.variables.get_lower_bounds(partner_id)\n",
    "        problem.variables.set_upper_bounds(partner_id, max(old_partner_lb, 0))\n",
    "\n",
    "    utils.reset_objective(problem)\n",
    "    problem.objective.set_linear(reaction.id, 1.0)\n",
    "    problem.objective.set_name(str(reaction.id))\n",
    "    problem.objective.set_sense(problem.objective.sense.maximize)\n",
    "\n",
    "    problem.solve()\n",
    "    \n",
    "    rxn_max = problem.solution.get_objective_value()\n",
    "    maxes[reaction.id] = rxn_max\n",
    "    \n",
    "    if rxn_max != 0:\n",
    "        problem.linear_constraints.add(\n",
    "                lin_expr=[cplex.SparsePair(ind=[reaction.id], val=[1.0])],\n",
    "                senses=['R'],\n",
    "                rhs=[0.95 * rxn_max],\n",
    "                names=['REACTION_OPT'])\n",
    "        if(problem.objective.get_name() != 'reaction_penalties'):\n",
    "                print(problem.objective.get_name())\n",
    "                utils.reset_objective(problem)\n",
    "                problem.objective.set_linear(\n",
    "                    list(reaction_penalties.iteritems())\n",
    "                )\n",
    "                problem.objective.set_name('reaction_penalties')\n",
    "                problem.objective.set_sense(problem.objective.sense.minimize)\n",
    "        problem.solve()\n",
    "        try: \n",
    "            value = problem.solution.get_objective_value()\n",
    "            # Insert values \n",
    "            rxn_values.loc[reaction.id] = [value, rxn_max]\n",
    "        except:\n",
    "            rxn_values.loc[reaction.id] = [-1, rxn_max]\n",
    "        problem.linear_constraints.delete('REACTION_OPT')\n",
    "    \n",
    "    if partner_reaction is not None:\n",
    "        partner_id = partner_reaction.id\n",
    "        problem.variables.set_upper_bounds(partner_id, old_partner_ub)"
   ]
  }
 ],
 "metadata": {
  "kernelspec": {
   "display_name": "compass",
   "language": "python",
   "name": "compass"
  },
  "language_info": {
   "codemirror_mode": {
    "name": "ipython",
    "version": 3
   },
   "file_extension": ".py",
   "mimetype": "text/x-python",
   "name": "python",
   "nbconvert_exporter": "python",
   "pygments_lexer": "ipython3",
   "version": "3.7.10"
  }
 },
 "nbformat": 4,
 "nbformat_minor": 5
}
