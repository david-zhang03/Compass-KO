{
 "cells": [
  {
   "cell_type": "markdown",
   "id": "04040dde-2333-40aa-9108-b3ffa74861fc",
   "metadata": {},
   "source": [
    "### Testing Compass runs on specific subsystems of Human GEM"
   ]
  },
  {
   "cell_type": "markdown",
   "id": "ee49b1a8-8e26-4b7c-a6b0-e7f3692615b6",
   "metadata": {},
   "source": [
    "Pass in args[select_subsystem] as a path to a file with subsystem on each line"
   ]
  },
  {
   "cell_type": "code",
   "execution_count": 75,
   "id": "44d49548-f1f2-47c7-bc5a-9736564a7dde",
   "metadata": {},
   "outputs": [],
   "source": [
    "from Compass.compass import models, compass, utils\n",
    "import importlib\n",
    "import pandas as pd\n",
    "import os\n",
    "import cplex\n",
    "import libsbml"
   ]
  },
  {
   "cell_type": "code",
   "execution_count": 76,
   "id": "34174f19-d817-4328-b6e5-451d8b0c3ffd",
   "metadata": {},
   "outputs": [],
   "source": [
    "from Compass.compass.models import MetabolicModel"
   ]
  },
  {
   "cell_type": "code",
   "execution_count": 86,
   "id": "ae97b802-1647-4d1b-ab43-1e4326e2e7f7",
   "metadata": {},
   "outputs": [
    {
     "data": {
      "text/plain": [
       "<module 'Compass.compass.models.importCommon' from '/home/dzhang/Compass_Integration/Compass/compass/models/importCommon.py'>"
      ]
     },
     "execution_count": 86,
     "metadata": {},
     "output_type": "execute_result"
    }
   ],
   "source": [
    "# Making changes in the local git repo - reload the .py file \n",
    "importlib.reload(models)\n",
    "importlib.reload(models.importSBML3)\n",
    "importlib.reload(models.geneSymbols)\n",
    "importlib.reload(models.importCommon)"
   ]
  },
  {
   "cell_type": "code",
   "execution_count": 87,
   "id": "4ce4d00f-4eb5-4a9b-9746-2d0b9b1ca285",
   "metadata": {},
   "outputs": [],
   "source": [
    "# load in model and then check the reactions associated with glycolysis and TCA\n",
    "model = models.init_model(\"HumanGEM\", \"homo_sapiens\", 1.0, knockout = None, knockout_type = None)"
   ]
  },
  {
   "cell_type": "code",
   "execution_count": 93,
   "id": "71653542-44ab-4b6b-8594-f83d93b6bdd4",
   "metadata": {},
   "outputs": [],
   "source": [
    "with open ('subsystems.txt', 'w') as f:\n",
    "    f.write(\"Tricarboxylic acid cycle and glyoxylate/dicarboxylate metabolism\\n\")\n",
    "    f.write(\"Glycolysis/gluconeogenesis\")"
   ]
  },
  {
   "cell_type": "code",
   "execution_count": 98,
   "id": "7035c2c2-e092-4f93-91d7-48802a292f98",
   "metadata": {},
   "outputs": [],
   "source": [
    "from Compass.compass.compass import algorithm"
   ]
  },
  {
   "cell_type": "code",
   "execution_count": 105,
   "id": "f372bcea-eaca-4968-8ec7-b84aa13cd9ef",
   "metadata": {},
   "outputs": [
    {
     "data": {
      "text/plain": [
       "'/home/dzhang/Compass_Integration/subsystems.txt'"
      ]
     },
     "execution_count": 105,
     "metadata": {},
     "output_type": "execute_result"
    }
   ],
   "source": [
    "os.path.abspath(\"subsystems.txt\")"
   ]
  },
  {
   "cell_type": "code",
   "execution_count": 112,
   "id": "c22a1e16-0d1e-4690-b84e-eda22dda7208",
   "metadata": {},
   "outputs": [],
   "source": [
    "compass_model_path = '/home/dzhang/Compass_Integration/Compass/'\n",
    "HG_metadata_path = os.path.join(compass_model_path, 'compass/Resources/HumanGEM_export/HG_rxn_md_v115.csv')\n",
    "HG_metadata = pd.read_csv(HG_metadata_path, index_col = 0) "
   ]
  },
  {
   "cell_type": "code",
   "execution_count": 115,
   "id": "ee3e665a-bcff-4774-8389-928d1b607626",
   "metadata": {},
   "outputs": [
    {
     "data": {
      "text/plain": [
       "'Glycolysis / Gluconeogenesis'"
      ]
     },
     "execution_count": 115,
     "metadata": {},
     "output_type": "execute_result"
    }
   ],
   "source": [
    "HG_metadata.loc['MAR03905']['SUBSYSTEM']"
   ]
  },
  {
   "cell_type": "code",
   "execution_count": 117,
   "id": "38b5d901-fb10-47f3-98a5-7969f6880f4c",
   "metadata": {},
   "outputs": [],
   "source": [
    "# Load in metadata files \n",
    "\n",
    "compass_model_path = '/home/dzhang/Compass_Integration/Compass/'\n",
    "\n",
    "RECON_metadata_path = os.path.join(compass_model_path, 'compass/Resources/Recon2_export/rxn_md.csv')\n",
    "RECON_metadata = pd.read_csv(RECON_metadata_path, index_col = 0) \n",
    "\n",
    "# Rename columns \n",
    "RECON_metadata.rename(columns = {\"rxn_EC_number\": \"EC-NUMBER\", \"rxn_confidence\": \"CONFIDENCE SCORE\", \n",
    "                                 \"subsystem\" : \"SUBSYSTEM\", \"genes_associated_with_rxn\" : \"GENE NAME ASSOCIATION\"}, inplace = True)"
   ]
  },
  {
   "cell_type": "code",
   "execution_count": 120,
   "id": "3cafd536-936b-4b62-bb14-94fe8a4599ae",
   "metadata": {},
   "outputs": [
    {
     "data": {
      "text/plain": [
       "{'Alanine and aspartate metabolism',\n",
       " 'Alkaloid synthesis',\n",
       " 'Aminosugar metabolism',\n",
       " 'Androgen and estrogen synthesis and metabolism',\n",
       " 'Arachidonic acid metabolism',\n",
       " 'Arginine and Proline Metabolism',\n",
       " 'Bile acid synthesis',\n",
       " 'Biotin metabolism',\n",
       " 'Blood group synthesis',\n",
       " 'Butanoate metabolism',\n",
       " 'C5-branched dibasic acid metabolism',\n",
       " 'Cholesterol metabolism',\n",
       " 'Chondroitin sulfate degradation',\n",
       " 'Chondroitin synthesis',\n",
       " 'Citric acid cycle',\n",
       " 'CoA catabolism',\n",
       " 'CoA synthesis',\n",
       " 'Cysteine Metabolism',\n",
       " 'Cytochrome metabolism',\n",
       " 'D-alanine metabolism',\n",
       " 'Dietary fiber binding',\n",
       " 'Eicosanoid metabolism',\n",
       " 'Exchange/demand reaction',\n",
       " 'Fatty acid oxidation',\n",
       " 'Fatty acid synthesis',\n",
       " 'Folate metabolism',\n",
       " 'Fructose and mannose metabolism',\n",
       " 'Galactose metabolism',\n",
       " 'Glutamate metabolism',\n",
       " 'Glutathione metabolism',\n",
       " 'Glycerophospholipid metabolism',\n",
       " 'Glycine, serine, alanine and threonine metabolism',\n",
       " 'Glycolysis/gluconeogenesis',\n",
       " 'Glycosphingolipid metabolism',\n",
       " 'Glyoxylate and dicarboxylate metabolism',\n",
       " 'Heme degradation',\n",
       " 'Heme synthesis',\n",
       " 'Heparan sulfate degradation',\n",
       " 'Histidine metabolism',\n",
       " 'Hyaluronan metabolism',\n",
       " 'Inositol phosphate metabolism',\n",
       " 'Keratan sulfate degradation',\n",
       " 'Keratan sulfate synthesis',\n",
       " 'Limonene and pinene degradation',\n",
       " 'Linoleate metabolism',\n",
       " 'Lipoate metabolism',\n",
       " 'Lysine metabolism',\n",
       " 'Methionine and cysteine metabolism',\n",
       " 'Miscellaneous',\n",
       " 'N-glycan degradation',\n",
       " 'N-glycan synthesis',\n",
       " 'NAD metabolism',\n",
       " 'Nucleotide interconversion',\n",
       " 'Nucleotide salvage pathway',\n",
       " 'Nucleotide sugar metabolism',\n",
       " 'O-glycan synthesis',\n",
       " 'Oxidative phosphorylation',\n",
       " 'Pentose phosphate pathway',\n",
       " 'Phenylalanine metabolism',\n",
       " 'Phosphatidylinositol phosphate metabolism',\n",
       " 'Propanoate metabolism',\n",
       " 'Purine catabolism',\n",
       " 'Purine synthesis',\n",
       " 'Pyrimidine catabolism',\n",
       " 'Pyrimidine synthesis',\n",
       " 'Pyruvate metabolism',\n",
       " 'R group synthesis',\n",
       " 'ROS detoxification',\n",
       " 'Selenoamino acid metabolism',\n",
       " 'Sphingolipid metabolism',\n",
       " 'Squalene and cholesterol synthesis',\n",
       " 'Starch and sucrose metabolism',\n",
       " 'Steroid metabolism',\n",
       " 'Stilbene, coumarine and lignin synthesis',\n",
       " 'Taurine and hypotaurine metabolism',\n",
       " 'Tetrahydrobiopterin metabolism',\n",
       " 'Thiamine metabolism',\n",
       " 'Transport, endoplasmic reticular',\n",
       " 'Transport, extracellular',\n",
       " 'Transport, golgi apparatus',\n",
       " 'Transport, lysosomal',\n",
       " 'Transport, mitochondrial',\n",
       " 'Transport, nuclear',\n",
       " 'Transport, peroxisomal',\n",
       " 'Triacylglycerol synthesis',\n",
       " 'Tryptophan metabolism',\n",
       " 'Tyrosine metabolism',\n",
       " 'Ubiquinone synthesis',\n",
       " 'Unassigned',\n",
       " 'Urea cycle',\n",
       " 'Valine, leucine, and isoleucine metabolism',\n",
       " 'Vitamin A metabolism',\n",
       " 'Vitamin B12 metabolism',\n",
       " 'Vitamin B2 metabolism',\n",
       " 'Vitamin B6 metabolism',\n",
       " 'Vitamin C metabolism',\n",
       " 'Vitamin D metabolism',\n",
       " 'Vitamin E metabolism',\n",
       " 'Xenobiotics metabolism',\n",
       " 'beta-Alanine metabolism'}"
      ]
     },
     "execution_count": 120,
     "metadata": {},
     "output_type": "execute_result"
    }
   ],
   "source": [
    "set(RECON_metadata['SUBSYSTEM'])"
   ]
  },
  {
   "cell_type": "code",
   "execution_count": 107,
   "id": "187db207-d7e1-47d2-80bd-7c4be4083235",
   "metadata": {},
   "outputs": [],
   "source": [
    "reactions = algorithm.read_selected_reactions(None, '/home/dzhang/Compass_Integration/subsystems.txt', model)"
   ]
  }
 ],
 "metadata": {
  "kernelspec": {
   "display_name": "compass",
   "language": "python",
   "name": "compass"
  },
  "language_info": {
   "codemirror_mode": {
    "name": "ipython",
    "version": 3
   },
   "file_extension": ".py",
   "mimetype": "text/x-python",
   "name": "python",
   "nbconvert_exporter": "python",
   "pygments_lexer": "ipython3",
   "version": "3.7.10"
  }
 },
 "nbformat": 4,
 "nbformat_minor": 5
}
