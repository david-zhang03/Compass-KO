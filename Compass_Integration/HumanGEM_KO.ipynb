{
 "cells": [
  {
   "cell_type": "markdown",
   "id": "1a095d66-bf04-403a-913d-cbb3a006dd8d",
   "metadata": {},
   "source": [
    "### Human GEM Model KO Testing"
   ]
  },
  {
   "cell_type": "markdown",
   "id": "a03e6834-1e1f-43fc-99a7-e88fb1ff7a64",
   "metadata": {},
   "source": [
    "Testing loading of Human GEM model for KO"
   ]
  },
  {
   "cell_type": "code",
   "execution_count": 1,
   "id": "0c087d6d-d6cf-4035-bf43-2cc865420405",
   "metadata": {},
   "outputs": [],
   "source": [
    "from Compass.compass import models, compass, utils\n",
    "import importlib\n",
    "import pandas as pd\n",
    "import os\n",
    "import cplex"
   ]
  },
  {
   "cell_type": "code",
   "execution_count": 2,
   "id": "6a07d873-3fa3-42f8-99d0-14ce5db0154c",
   "metadata": {},
   "outputs": [],
   "source": [
    "from Compass.compass.models import MetabolicModel"
   ]
  },
  {
   "cell_type": "code",
   "execution_count": 3,
   "id": "67371e6e-3c5d-492e-b747-b7bdccbf2006",
   "metadata": {},
   "outputs": [
    {
     "data": {
      "text/plain": [
       "<module 'Compass.compass.models.importCommon' from '/home/dzhang/Compass_Integration/Compass/compass/models/importCommon.py'>"
      ]
     },
     "execution_count": 3,
     "metadata": {},
     "output_type": "execute_result"
    }
   ],
   "source": [
    "# Making changes in the local git repo - reload the .py file \n",
    "importlib.reload(models)\n",
    "importlib.reload(models.importSBML3)\n",
    "importlib.reload(models.geneSymbols)\n",
    "importlib.reload(models.importCommon)"
   ]
  },
  {
   "cell_type": "markdown",
   "id": "f94280b7-5f42-4725-a3ac-d95c7f312d10",
   "metadata": {},
   "source": [
    "#### Comparing dropout and non-dropout KO models"
   ]
  },
  {
   "cell_type": "markdown",
   "id": "45e582f6-101c-499f-bf15-92b044e3bdec",
   "metadata": {},
   "source": [
    "Make sure to switch branches for dropout and non_dropout models "
   ]
  },
  {
   "cell_type": "code",
   "execution_count": 4,
   "id": "8c1ba6b0-3c99-4feb-b842-c9b803db67b3",
   "metadata": {},
   "outputs": [],
   "source": [
    "# Check that there are no reactions dropped out \n",
    "dropout_model, rxns = models.load_metabolic_model(\"HumanGEM\", None, knockout = ['SMPD1'], knockout_type = 'flux') "
   ]
  },
  {
   "cell_type": "code",
   "execution_count": 28,
   "id": "e294113b-20e8-4112-a818-6415a3f54db3",
   "metadata": {},
   "outputs": [
    {
     "data": {
      "text/plain": [
       "[]"
      ]
     },
     "execution_count": 28,
     "metadata": {},
     "output_type": "execute_result"
    }
   ],
   "source": [
    "rxns"
   ]
  },
  {
   "cell_type": "markdown",
   "id": "b9fbb8b2-1170-41f4-a2d1-2aa5e2fc3713",
   "metadata": {},
   "source": [
    "Note that in between these two function calls, I change the Compass code to the branch with KO reactions dropped out"
   ]
  },
  {
   "cell_type": "code",
   "execution_count": 29,
   "id": "ae8df819-5b2d-4df1-8859-ae1023ed960e",
   "metadata": {},
   "outputs": [],
   "source": [
    "no_dropout_model, rxns = models.load_metabolic_model(\"HumanGEM\", None, knockout = ['SMPD1'], knockout_type = 'flux') "
   ]
  },
  {
   "cell_type": "code",
   "execution_count": 30,
   "id": "9b8ac937-cef5-4a53-84a9-464ef341c7b8",
   "metadata": {},
   "outputs": [
    {
     "data": {
      "text/plain": [
       "[]"
      ]
     },
     "execution_count": 30,
     "metadata": {},
     "output_type": "execute_result"
    }
   ],
   "source": [
    "rxns"
   ]
  },
  {
   "cell_type": "code",
   "execution_count": 39,
   "id": "b1078905-62e5-4ac5-80ae-9a1e8c3fb7f5",
   "metadata": {},
   "outputs": [],
   "source": [
    "# SMPD1 \n",
    "no_dropout_model = models.init_model(\"HumanGEM\", \"homo_sapiens\", 1.0, knockout = ['SMDP1'], knockout_type = 'flux')"
   ]
  },
  {
   "cell_type": "code",
   "execution_count": 62,
   "id": "78537af3-f6ed-489d-b4f6-640ef9fc5f7f",
   "metadata": {},
   "outputs": [],
   "source": [
    "dropout_model = models.init_model(\"HumanGEM\", \"homo_sapiens\", 1.0, knockout = ['SMDP1'], knockout_type = 'flux')"
   ]
  },
  {
   "cell_type": "code",
   "execution_count": 54,
   "id": "3ef7d16c-c729-4040-9669-9100d02d36d6",
   "metadata": {},
   "outputs": [
    {
     "data": {
      "text/plain": [
       "{}"
      ]
     },
     "execution_count": 54,
     "metadata": {},
     "output_type": "execute_result"
    }
   ],
   "source": [
    "dropout_model.reactions['MAR03905_pos'].meta"
   ]
  },
  {
   "cell_type": "code",
   "execution_count": 71,
   "id": "b01d5ac4-32c2-4c9f-8746-37f15b2f6e97",
   "metadata": {},
   "outputs": [],
   "source": [
    "def check_reaction(reaction1, reaction2):\n",
    "    if reaction.name != nd_reaction.name:\n",
    "        return False\n",
    "    elif reaction.subsystem != nd_reaction.subsystem: \n",
    "        return False\n",
    "    elif reaction.upper_bound != nd_reaction.upper_bound:\n",
    "        return False\n",
    "    elif reaction.lower_bound != nd_reaction.lower_bound:\n",
    "        return False\n",
    "    elif reaction.reactants != nd_reaction.reactants:\n",
    "        return False\n",
    "    elif reaction.products != nd_reaction.products:\n",
    "        return False\n",
    "    elif reaction.list_genes() != nd_reaction.list_genes():\n",
    "        return False\n",
    "    return True "
   ]
  },
  {
   "cell_type": "code",
   "execution_count": 73,
   "id": "c187508d-a711-48f2-ba66-0c8ea227c755",
   "metadata": {
    "scrolled": true
   },
   "outputs": [],
   "source": [
    "for id, reaction in dropout_model.reactions.items():\n",
    "    nd_reaction = no_dropout_model.reactions[id]\n",
    "    # Check for subsystem, name, upper/lower bound, reactants, products, list genes, reverse reaction \n",
    "    if not check_reaction(reaction, nd_reaction):\n",
    "        print(id)\n",
    "    if not check_reaction(reaction.reverse_reaction, nd_reaction.reverse_reaction):\n",
    "        print(id)"
   ]
  },
  {
   "cell_type": "markdown",
   "id": "66a9b325-5165-4632-9edb-0065d60485af",
   "metadata": {},
   "source": [
    "### Check r_max for reactions with bounds = 0 in KO models"
   ]
  },
  {
   "cell_type": "code",
   "execution_count": 80,
   "id": "0b947dae-8746-48dc-a2bc-f8a154d712b0",
   "metadata": {},
   "outputs": [],
   "source": [
    "model, KO_rxns = models.load_metabolic_model(\"HumanGEM\", None, ['MVK'], \"flux\", \"homo_sapiens\")"
   ]
  },
  {
   "cell_type": "code",
   "execution_count": 81,
   "id": "37de6a81-dc44-451e-acfd-52138d7d0ace",
   "metadata": {},
   "outputs": [
    {
     "data": {
      "text/plain": [
       "['MAR01445', 'MAR01520']"
      ]
     },
     "execution_count": 81,
     "metadata": {},
     "output_type": "execute_result"
    }
   ],
   "source": [
    "KO_rxns"
   ]
  },
  {
   "cell_type": "code",
   "execution_count": 82,
   "id": "ae5e8258-4325-4d98-960d-db13317b2619",
   "metadata": {},
   "outputs": [
    {
     "name": "stdout",
     "output_type": "stream",
     "text": [
      "1000\n",
      "0.0\n",
      "1000\n",
      "0.0\n"
     ]
    }
   ],
   "source": [
    "# Check that the bounds are not null\n",
    "for rxn in KO_rxns:\n",
    "    print(model.reactions[rxn].upper_bound)\n",
    "    print(model.reactions[rxn].lower_bound)"
   ]
  },
  {
   "cell_type": "code",
   "execution_count": 86,
   "id": "e059ef6a-5f83-455a-9439-bdb43b4d408e",
   "metadata": {},
   "outputs": [],
   "source": [
    "model = models.init_model(\"HumanGEM\", \"homo_sapiens\", 1.0, knockout = ['MVK'], knockout_type = 'flux')"
   ]
  },
  {
   "cell_type": "code",
   "execution_count": 88,
   "id": "5aa33b06-9d23-4a8a-b59c-c00bba04878c",
   "metadata": {},
   "outputs": [
    {
     "name": "stdout",
     "output_type": "stream",
     "text": [
      "0\n",
      "0\n",
      "0\n",
      "0\n"
     ]
    }
   ],
   "source": [
    "# Check that the bounds are 0\n",
    "for rxn in KO_rxns:\n",
    "    print(model.reactions[rxn + \"_pos\"].upper_bound)\n",
    "    print(model.reactions[rxn + \"_pos\"].lower_bound)"
   ]
  },
  {
   "cell_type": "code",
   "execution_count": 96,
   "id": "85259a0f-49b9-4f34-8b7f-ed53240d08a0",
   "metadata": {},
   "outputs": [
    {
     "data": {
      "text/plain": [
       "[<Compass.compass.models.MetabolicModel.Reaction at 0x7f0da921b9d0>,\n",
       " <Compass.compass.models.MetabolicModel.Reaction at 0x7f0da824ab50>]"
      ]
     },
     "execution_count": 96,
     "metadata": {},
     "output_type": "execute_result"
    }
   ],
   "source": [
    "# Obtain reactions \n",
    "reactions = []\n",
    "for rxn in KO_rxns:\n",
    "    reactions.append(model.reactions[rxn + \"_pos\"])\n",
    "reactions"
   ]
  },
  {
   "cell_type": "code",
   "execution_count": 102,
   "id": "181ef9f5-359b-4fd6-bedf-1f7005d99308",
   "metadata": {},
   "outputs": [],
   "source": [
    "# Check r_max for both reactions \n",
    "problem = compass.algorithm.initialize_cplex_problem(model, 1, 4, 2)"
   ]
  },
  {
   "cell_type": "code",
   "execution_count": 103,
   "id": "bd9253ea-c9fb-4683-80a4-49c4ec7d10b1",
   "metadata": {},
   "outputs": [
    {
     "name": "stdout",
     "output_type": "stream",
     "text": [
      "ok\n",
      "ok\n"
     ]
    }
   ],
   "source": [
    "for reaction in reactions:\n",
    "    partner_reaction = reaction.reverse_reaction\n",
    "\n",
    "    # Set partner reaction upper-limit to 0 in problem\n",
    "    # Store old limit for later to restore\n",
    "    if partner_reaction is not None:\n",
    "        partner_id = partner_reaction.id\n",
    "        old_partner_ub = problem.variables.get_upper_bounds(partner_id)\n",
    "        old_partner_lb = problem.variables.get_lower_bounds(partner_id)\n",
    "        problem.variables.set_upper_bounds(partner_id, max(old_partner_lb, 0))\n",
    "\n",
    "    utils.reset_objective(problem)\n",
    "    problem.objective.set_linear(reaction.id, 1.0)\n",
    "    problem.objective.set_name(str(reaction.id))\n",
    "    problem.objective.set_sense(problem.objective.sense.maximize)\n",
    "\n",
    "    problem.solve()\n",
    "\n",
    "    rxn_max = problem.solution.get_objective_value()\n",
    "\n",
    "    if rxn_max == 0:\n",
    "        print(\"ok\")"
   ]
  }
 ],
 "metadata": {
  "kernelspec": {
   "display_name": "compass",
   "language": "python",
   "name": "compass"
  },
  "language_info": {
   "codemirror_mode": {
    "name": "ipython",
    "version": 3
   },
   "file_extension": ".py",
   "mimetype": "text/x-python",
   "name": "python",
   "nbconvert_exporter": "python",
   "pygments_lexer": "ipython3",
   "version": "3.7.10"
  }
 },
 "nbformat": 4,
 "nbformat_minor": 5
}
