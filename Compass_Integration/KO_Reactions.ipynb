{
 "cells": [
  {
   "cell_type": "markdown",
   "id": "4289fc7b-dde6-4040-af7f-d37021e9ea8c",
   "metadata": {},
   "source": [
    "### Compass KO Reactions "
   ]
  },
  {
   "cell_type": "markdown",
   "id": "d4ba6961-e4a8-4f09-a9f5-e969cb19e9fa",
   "metadata": {},
   "source": [
    "Identify the KO reactions for genes"
   ]
  },
  {
   "cell_type": "code",
   "execution_count": 1,
   "id": "ff1a11ab-0c41-4740-ab96-0d9fa46166a9",
   "metadata": {},
   "outputs": [],
   "source": [
    "from Compass.compass import models, compass, utils\n",
    "import importlib\n",
    "import pandas as pd\n",
    "import os\n",
    "import cplex"
   ]
  },
  {
   "cell_type": "code",
   "execution_count": 2,
   "id": "e93a98f4-66db-4c4f-a9aa-c9777c73d38e",
   "metadata": {},
   "outputs": [],
   "source": [
    "from Compass.compass.models import MetabolicModel"
   ]
  },
  {
   "cell_type": "code",
   "execution_count": 3,
   "id": "2cd5d370-e2a2-40c0-973c-63560e623ed6",
   "metadata": {},
   "outputs": [
    {
     "data": {
      "text/plain": [
       "<module 'Compass.compass.models.importCommon' from '/home/dzhang/Compass_Integration/Compass/compass/models/importCommon.py'>"
      ]
     },
     "execution_count": 3,
     "metadata": {},
     "output_type": "execute_result"
    }
   ],
   "source": [
    "# Making changes in the local git repo - reload the .py file \n",
    "importlib.reload(models)\n",
    "importlib.reload(models.importSBML3)\n",
    "importlib.reload(models.geneSymbols)\n",
    "importlib.reload(models.importCommon)"
   ]
  },
  {
   "cell_type": "code",
   "execution_count": 4,
   "id": "87fb1236-da5c-4334-be8c-971a3c0e5a58",
   "metadata": {},
   "outputs": [],
   "source": [
    "genes = ['SMPD1', 'MVK', 'ELOVL1', 'ACSL5']"
   ]
  },
  {
   "cell_type": "code",
   "execution_count": 5,
   "id": "7a317233-5f01-4781-a859-3163951a84cc",
   "metadata": {},
   "outputs": [],
   "source": [
    "model, rxns = models.load_metabolic_model(\"RECON2_mat\", None, knockout = None, knockout_type = None) "
   ]
  },
  {
   "cell_type": "code",
   "execution_count": 6,
   "id": "f25140f7-82d3-4598-bacb-aebb9cd36cd0",
   "metadata": {},
   "outputs": [],
   "source": [
    "for id, reaction in model.reactions.items():\n",
    "    if 'ELOVL1' in reaction.list_genes():\n",
    "        print(id)"
   ]
  },
  {
   "cell_type": "code",
   "execution_count": 9,
   "id": "7f3034a9-2a8e-43e4-83b1-0ed5a33336c1",
   "metadata": {},
   "outputs": [
    {
     "data": {
      "text/plain": [
       "['']"
      ]
     },
     "execution_count": 9,
     "metadata": {},
     "output_type": "execute_result"
    }
   ],
   "source": [
    "model.reactions['RE0580R'].list_genes()"
   ]
  },
  {
   "cell_type": "code",
   "execution_count": 10,
   "id": "cb5e4edf-33bd-40cb-b5f0-b39e72b13ed8",
   "metadata": {},
   "outputs": [],
   "source": [
    "model, rxns = models.load_metabolic_model(\"HumanGEM\", None, knockout = None, knockout_type = None) "
   ]
  },
  {
   "cell_type": "code",
   "execution_count": 11,
   "id": "83c73028-78c8-43fd-becc-ae2f427ac7aa",
   "metadata": {},
   "outputs": [
    {
     "name": "stdout",
     "output_type": "stream",
     "text": [
      "MAR05338\n",
      "MAR02305\n",
      "MAR02315\n",
      "MAR02324\n",
      "MAR02332\n",
      "MAR02342\n",
      "MAR02347\n",
      "MAR02353\n",
      "MAR02361\n",
      "MAR02190\n",
      "MAR02201\n",
      "MAR02205\n",
      "MAR02211\n",
      "MAR02215\n",
      "MAR02259\n",
      "MAR02263\n",
      "MAR02267\n",
      "MAR02475\n",
      "MAR02486\n",
      "MAR02497\n",
      "MAR02515\n",
      "MAR02522\n",
      "MAR02530\n",
      "MAR02540\n",
      "MAR02371\n",
      "MAR02383\n",
      "MAR02395\n",
      "MAR02415\n",
      "MAR02423\n",
      "MAR02433\n",
      "MAR02519\n",
      "MAR02521\n",
      "MAR03393\n",
      "MAR03394\n",
      "MAR03395\n",
      "MAR03399\n",
      "MAR03401\n",
      "MAR03402\n",
      "MAR03403\n",
      "MAR03404\n",
      "MAR03405\n",
      "MAR03410\n",
      "MAR03412\n",
      "MAR03415\n",
      "MAR03417\n",
      "MAR03418\n",
      "MAR03438\n",
      "MAR03440\n",
      "MAR03442\n",
      "MAR03443\n",
      "MAR03451\n",
      "MAR03465\n",
      "MAR03474\n",
      "MAR03479\n",
      "MAR03485\n",
      "MAR03487\n",
      "MAR03490\n",
      "MAR03492\n",
      "MAR03494\n",
      "MAR03495\n",
      "MAR03496\n",
      "MAR03497\n",
      "MAR03499\n",
      "MAR03500\n",
      "MAR03502\n",
      "MAR03504\n",
      "MAR03507\n",
      "MAR03516\n",
      "MAR03518\n",
      "MAR03535\n",
      "MAR03604\n",
      "MAR03605\n",
      "MAR03606\n",
      "MAR03607\n",
      "MAR03608\n",
      "MAR03609\n",
      "MAR03610\n",
      "MAR03611\n",
      "MAR03612\n",
      "MAR03615\n",
      "MAR03616\n",
      "MAR03617\n",
      "MAR03619\n",
      "MAR03621\n",
      "MAR03624\n",
      "MAR03749\n"
     ]
    }
   ],
   "source": [
    "for id, reaction in model.reactions.items():\n",
    "    if 'ELOVL1' in reaction.list_genes():\n",
    "        print(id)"
   ]
  },
  {
   "cell_type": "code",
   "execution_count": null,
   "id": "73e0ddc1-579a-4072-bdcb-b280e5fec73e",
   "metadata": {},
   "outputs": [],
   "source": [
    "for gene in genes: \n",
    "    model, rxns = models.load_metabolic_model(\"HumanGEM\", None, knockout = [gene], knockout_type = 'flux') \n",
    "    print(f'{gene}: {rxns}')"
   ]
  }
 ],
 "metadata": {
  "kernelspec": {
   "display_name": "compass",
   "language": "python",
   "name": "compass"
  },
  "language_info": {
   "codemirror_mode": {
    "name": "ipython",
    "version": 3
   },
   "file_extension": ".py",
   "mimetype": "text/x-python",
   "name": "python",
   "nbconvert_exporter": "python",
   "pygments_lexer": "ipython3",
   "version": "3.7.10"
  }
 },
 "nbformat": 4,
 "nbformat_minor": 5
}
